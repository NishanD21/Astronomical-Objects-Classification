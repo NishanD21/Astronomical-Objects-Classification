{
 "cells": [
  {
   "attachments": {},
   "cell_type": "markdown",
   "metadata": {},
   "source": [
    "## Exploratory Data Analysis"
   ]
  },
  {
   "attachments": {},
   "cell_type": "markdown",
   "metadata": {},
   "source": [
    "For exploratory data analysis, pre transformed and pre normalized version of the dataset was used."
   ]
  },
  {
   "cell_type": "code",
   "execution_count": 10,
   "metadata": {},
   "outputs": [],
   "source": [
    "import pandas as pd # For Dataframe manupulation\n",
    "import numpy as np # For arrays manipulation"
   ]
  },
  {
   "cell_type": "code",
   "execution_count": 11,
   "metadata": {},
   "outputs": [
    {
     "data": {
      "text/html": [
       "<div>\n",
       "<style scoped>\n",
       "    .dataframe tbody tr th:only-of-type {\n",
       "        vertical-align: middle;\n",
       "    }\n",
       "\n",
       "    .dataframe tbody tr th {\n",
       "        vertical-align: top;\n",
       "    }\n",
       "\n",
       "    .dataframe thead th {\n",
       "        text-align: right;\n",
       "    }\n",
       "</style>\n",
       "<table border=\"1\" class=\"dataframe\">\n",
       "  <thead>\n",
       "    <tr style=\"text-align: right;\">\n",
       "      <th></th>\n",
       "      <th>alpha</th>\n",
       "      <th>delta</th>\n",
       "      <th>u</th>\n",
       "      <th>g</th>\n",
       "      <th>r</th>\n",
       "      <th>i</th>\n",
       "      <th>z</th>\n",
       "      <th>redshift</th>\n",
       "      <th>class</th>\n",
       "    </tr>\n",
       "  </thead>\n",
       "  <tbody>\n",
       "    <tr>\n",
       "      <th>0</th>\n",
       "      <td>135.689107</td>\n",
       "      <td>32.494632</td>\n",
       "      <td>23.87882</td>\n",
       "      <td>22.27530</td>\n",
       "      <td>20.39501</td>\n",
       "      <td>19.16573</td>\n",
       "      <td>18.79371</td>\n",
       "      <td>0.634794</td>\n",
       "      <td>GALAXY</td>\n",
       "    </tr>\n",
       "    <tr>\n",
       "      <th>1</th>\n",
       "      <td>144.826101</td>\n",
       "      <td>31.274185</td>\n",
       "      <td>24.77759</td>\n",
       "      <td>22.83188</td>\n",
       "      <td>22.58444</td>\n",
       "      <td>21.16812</td>\n",
       "      <td>21.61427</td>\n",
       "      <td>0.779136</td>\n",
       "      <td>GALAXY</td>\n",
       "    </tr>\n",
       "    <tr>\n",
       "      <th>2</th>\n",
       "      <td>142.188790</td>\n",
       "      <td>35.582444</td>\n",
       "      <td>25.26307</td>\n",
       "      <td>22.66389</td>\n",
       "      <td>20.60976</td>\n",
       "      <td>19.34857</td>\n",
       "      <td>18.94827</td>\n",
       "      <td>0.644195</td>\n",
       "      <td>GALAXY</td>\n",
       "    </tr>\n",
       "    <tr>\n",
       "      <th>3</th>\n",
       "      <td>338.741038</td>\n",
       "      <td>-0.402828</td>\n",
       "      <td>22.13682</td>\n",
       "      <td>23.77656</td>\n",
       "      <td>21.61162</td>\n",
       "      <td>20.50454</td>\n",
       "      <td>19.25010</td>\n",
       "      <td>0.932346</td>\n",
       "      <td>GALAXY</td>\n",
       "    </tr>\n",
       "    <tr>\n",
       "      <th>4</th>\n",
       "      <td>345.282593</td>\n",
       "      <td>21.183866</td>\n",
       "      <td>19.43718</td>\n",
       "      <td>17.58028</td>\n",
       "      <td>16.49747</td>\n",
       "      <td>15.97711</td>\n",
       "      <td>15.54461</td>\n",
       "      <td>0.116123</td>\n",
       "      <td>GALAXY</td>\n",
       "    </tr>\n",
       "    <tr>\n",
       "      <th>...</th>\n",
       "      <td>...</td>\n",
       "      <td>...</td>\n",
       "      <td>...</td>\n",
       "      <td>...</td>\n",
       "      <td>...</td>\n",
       "      <td>...</td>\n",
       "      <td>...</td>\n",
       "      <td>...</td>\n",
       "      <td>...</td>\n",
       "    </tr>\n",
       "    <tr>\n",
       "      <th>90627</th>\n",
       "      <td>39.620709</td>\n",
       "      <td>-2.594074</td>\n",
       "      <td>22.16759</td>\n",
       "      <td>22.97586</td>\n",
       "      <td>21.90404</td>\n",
       "      <td>21.30548</td>\n",
       "      <td>20.73569</td>\n",
       "      <td>0.000000</td>\n",
       "      <td>GALAXY</td>\n",
       "    </tr>\n",
       "    <tr>\n",
       "      <th>90628</th>\n",
       "      <td>29.493819</td>\n",
       "      <td>19.798874</td>\n",
       "      <td>22.69118</td>\n",
       "      <td>22.38628</td>\n",
       "      <td>20.45003</td>\n",
       "      <td>19.75759</td>\n",
       "      <td>19.41526</td>\n",
       "      <td>0.404895</td>\n",
       "      <td>GALAXY</td>\n",
       "    </tr>\n",
       "    <tr>\n",
       "      <th>90629</th>\n",
       "      <td>224.587407</td>\n",
       "      <td>15.700707</td>\n",
       "      <td>21.16916</td>\n",
       "      <td>19.26997</td>\n",
       "      <td>18.20428</td>\n",
       "      <td>17.69034</td>\n",
       "      <td>17.35221</td>\n",
       "      <td>0.143366</td>\n",
       "      <td>GALAXY</td>\n",
       "    </tr>\n",
       "    <tr>\n",
       "      <th>90630</th>\n",
       "      <td>212.268621</td>\n",
       "      <td>46.660365</td>\n",
       "      <td>25.35039</td>\n",
       "      <td>21.63757</td>\n",
       "      <td>19.91386</td>\n",
       "      <td>19.07254</td>\n",
       "      <td>18.62482</td>\n",
       "      <td>0.455040</td>\n",
       "      <td>GALAXY</td>\n",
       "    </tr>\n",
       "    <tr>\n",
       "      <th>90631</th>\n",
       "      <td>196.896053</td>\n",
       "      <td>49.464643</td>\n",
       "      <td>22.62171</td>\n",
       "      <td>21.79745</td>\n",
       "      <td>20.60115</td>\n",
       "      <td>20.00959</td>\n",
       "      <td>19.28075</td>\n",
       "      <td>0.542944</td>\n",
       "      <td>GALAXY</td>\n",
       "    </tr>\n",
       "  </tbody>\n",
       "</table>\n",
       "<p>90632 rows × 9 columns</p>\n",
       "</div>"
      ],
      "text/plain": [
       "            alpha      delta         u         g         r         i  \\\n",
       "0      135.689107  32.494632  23.87882  22.27530  20.39501  19.16573   \n",
       "1      144.826101  31.274185  24.77759  22.83188  22.58444  21.16812   \n",
       "2      142.188790  35.582444  25.26307  22.66389  20.60976  19.34857   \n",
       "3      338.741038  -0.402828  22.13682  23.77656  21.61162  20.50454   \n",
       "4      345.282593  21.183866  19.43718  17.58028  16.49747  15.97711   \n",
       "...           ...        ...       ...       ...       ...       ...   \n",
       "90627   39.620709  -2.594074  22.16759  22.97586  21.90404  21.30548   \n",
       "90628   29.493819  19.798874  22.69118  22.38628  20.45003  19.75759   \n",
       "90629  224.587407  15.700707  21.16916  19.26997  18.20428  17.69034   \n",
       "90630  212.268621  46.660365  25.35039  21.63757  19.91386  19.07254   \n",
       "90631  196.896053  49.464643  22.62171  21.79745  20.60115  20.00959   \n",
       "\n",
       "              z  redshift   class  \n",
       "0      18.79371  0.634794  GALAXY  \n",
       "1      21.61427  0.779136  GALAXY  \n",
       "2      18.94827  0.644195  GALAXY  \n",
       "3      19.25010  0.932346  GALAXY  \n",
       "4      15.54461  0.116123  GALAXY  \n",
       "...         ...       ...     ...  \n",
       "90627  20.73569  0.000000  GALAXY  \n",
       "90628  19.41526  0.404895  GALAXY  \n",
       "90629  17.35221  0.143366  GALAXY  \n",
       "90630  18.62482  0.455040  GALAXY  \n",
       "90631  19.28075  0.542944  GALAXY  \n",
       "\n",
       "[90632 rows x 9 columns]"
      ]
     },
     "execution_count": 11,
     "metadata": {},
     "output_type": "execute_result"
    }
   ],
   "source": [
    "# importing pre transformed dataset for exploratory analysis\n",
    "\n",
    "dfx = pd.read_csv(\"D:/Academic/MSc_Data_Science/Course/8.Technology Dissertation/4. Dissertation/Datasets/sgq_classification_exp.csv\") \n",
    "dfx"
   ]
  },
  {
   "attachments": {},
   "cell_type": "markdown",
   "metadata": {},
   "source": [
    "#### Descriptive Statistics"
   ]
  },
  {
   "cell_type": "code",
   "execution_count": 12,
   "metadata": {},
   "outputs": [
    {
     "data": {
      "text/plain": [
       "array([-0.02515803,  0.19361002, -0.07601592, -0.3552825 , -0.37506259,\n",
       "       -0.29879357, -0.14145027,  1.02672534])"
      ]
     },
     "execution_count": 12,
     "metadata": {},
     "output_type": "execute_result"
    }
   ],
   "source": [
    "import scipy.stats as stats\n",
    "\n",
    "# calculate the skewness\n",
    "skewness = stats.skew(dfx.drop(['class'],axis='columns'))\n",
    "\n",
    "skewness"
   ]
  },
  {
   "cell_type": "code",
   "execution_count": 13,
   "metadata": {},
   "outputs": [
    {
     "data": {
      "text/plain": [
       "alpha       9288.716738\n",
       "delta        386.528609\n",
       "u              5.256885\n",
       "g              4.328216\n",
       "r              3.441895\n",
       "i              2.949496\n",
       "z              2.928245\n",
       "redshift       0.150573\n",
       "dtype: float64"
      ]
     },
     "execution_count": 13,
     "metadata": {},
     "output_type": "execute_result"
    }
   ],
   "source": [
    "# calculate the variance\n",
    "\n",
    "variance = np.var(dfx.drop(['class'],axis='columns'))\n",
    "variance"
   ]
  },
  {
   "cell_type": "code",
   "execution_count": 14,
   "metadata": {},
   "outputs": [
    {
     "data": {
      "text/plain": [
       "array([-0.54199022, -1.0206499 , -0.70477816, -0.68707395, -0.70924941,\n",
       "       -0.58564208, -0.42005196,  0.70520874])"
      ]
     },
     "execution_count": 14,
     "metadata": {},
     "output_type": "execute_result"
    }
   ],
   "source": [
    "# calculate the kurtosis\n",
    "from scipy.stats import kurtosis\n",
    "\n",
    "kurt = kurtosis(dfx.drop(['class'],axis='columns'))\n",
    "kurt"
   ]
  },
  {
   "cell_type": "code",
   "execution_count": 15,
   "metadata": {},
   "outputs": [],
   "source": [
    "# adding skewness, variance and kurtosis to the output of descriptive analysis\n",
    "\n",
    "df_skewness = pd.DataFrame(skewness)\n",
    "df_kurtosis = pd.DataFrame(kurt)\n",
    "df_variance = pd.DataFrame(variance)\n",
    "\n",
    "df_skewness = df_skewness.T # to transpose the dataframe\n",
    "df_skewness = df_skewness.rename(index = {0:'skewness'})\n",
    "df_skewness = df_skewness.rename(columns = {0:'alpha',1:'delta',2:'u',3:'g',4:'r',5:'i',6:'z',7:'redshift'})\n",
    "\n",
    "df_kurtosis = df_kurtosis.T # to transpose the dataframe\n",
    "df_kurtosis = df_kurtosis.rename(index = {0:'kurtosis'})\n",
    "df_kurtosis = df_kurtosis.rename(columns = {0:'alpha',1:'delta',2:'u',3:'g',4:'r',5:'i',6:'z',7:'redshift'})\n",
    "\n",
    "df_variance = df_variance.T # to transpose the dataframe\n",
    "df_variance = df_variance.rename(index = {0:'variance'})\n",
    "\n",
    "descriptive_stats = dfx.describe()\n",
    "\n",
    "descriptive_stats  = pd.concat([descriptive_stats,df_skewness,df_variance,df_kurtosis])"
   ]
  },
  {
   "cell_type": "code",
   "execution_count": 16,
   "metadata": {},
   "outputs": [
    {
     "data": {
      "text/html": [
       "<div>\n",
       "<style scoped>\n",
       "    .dataframe tbody tr th:only-of-type {\n",
       "        vertical-align: middle;\n",
       "    }\n",
       "\n",
       "    .dataframe tbody tr th {\n",
       "        vertical-align: top;\n",
       "    }\n",
       "\n",
       "    .dataframe thead th {\n",
       "        text-align: right;\n",
       "    }\n",
       "</style>\n",
       "<table border=\"1\" class=\"dataframe\">\n",
       "  <thead>\n",
       "    <tr style=\"text-align: right;\">\n",
       "      <th></th>\n",
       "      <th>alpha</th>\n",
       "      <th>delta</th>\n",
       "      <th>u</th>\n",
       "      <th>g</th>\n",
       "      <th>r</th>\n",
       "      <th>i</th>\n",
       "      <th>z</th>\n",
       "      <th>redshift</th>\n",
       "    </tr>\n",
       "  </thead>\n",
       "  <tbody>\n",
       "    <tr>\n",
       "      <th>count</th>\n",
       "      <td>90632.000000</td>\n",
       "      <td>90632.000000</td>\n",
       "      <td>90632.000000</td>\n",
       "      <td>90632.000000</td>\n",
       "      <td>90632.000000</td>\n",
       "      <td>90632.000000</td>\n",
       "      <td>90632.000000</td>\n",
       "      <td>90632.000000</td>\n",
       "    </tr>\n",
       "    <tr>\n",
       "      <th>mean</th>\n",
       "      <td>177.251622</td>\n",
       "      <td>23.937649</td>\n",
       "      <td>22.122056</td>\n",
       "      <td>20.610204</td>\n",
       "      <td>19.548431</td>\n",
       "      <td>18.947715</td>\n",
       "      <td>18.617602</td>\n",
       "      <td>0.393794</td>\n",
       "    </tr>\n",
       "    <tr>\n",
       "      <th>std</th>\n",
       "      <td>96.378521</td>\n",
       "      <td>19.660439</td>\n",
       "      <td>2.292802</td>\n",
       "      <td>2.080448</td>\n",
       "      <td>1.855245</td>\n",
       "      <td>1.717419</td>\n",
       "      <td>1.711221</td>\n",
       "      <td>0.388040</td>\n",
       "    </tr>\n",
       "    <tr>\n",
       "      <th>min</th>\n",
       "      <td>0.005528</td>\n",
       "      <td>-18.785328</td>\n",
       "      <td>15.358420</td>\n",
       "      <td>14.318450</td>\n",
       "      <td>13.990440</td>\n",
       "      <td>13.862170</td>\n",
       "      <td>13.774360</td>\n",
       "      <td>-0.009971</td>\n",
       "    </tr>\n",
       "    <tr>\n",
       "      <th>25%</th>\n",
       "      <td>127.216162</td>\n",
       "      <td>4.897098</td>\n",
       "      <td>20.278585</td>\n",
       "      <td>18.782272</td>\n",
       "      <td>17.908307</td>\n",
       "      <td>17.514490</td>\n",
       "      <td>17.268732</td>\n",
       "      <td>0.027621</td>\n",
       "    </tr>\n",
       "    <tr>\n",
       "      <th>50%</th>\n",
       "      <td>180.451076</td>\n",
       "      <td>23.282869</td>\n",
       "      <td>22.282950</td>\n",
       "      <td>21.101295</td>\n",
       "      <td>19.993500</td>\n",
       "      <td>19.259190</td>\n",
       "      <td>18.860795</td>\n",
       "      <td>0.344860</td>\n",
       "    </tr>\n",
       "    <tr>\n",
       "      <th>75%</th>\n",
       "      <td>233.738030</td>\n",
       "      <td>39.543850</td>\n",
       "      <td>23.797190</td>\n",
       "      <td>22.194585</td>\n",
       "      <td>20.961493</td>\n",
       "      <td>20.176790</td>\n",
       "      <td>19.724610</td>\n",
       "      <td>0.602210</td>\n",
       "    </tr>\n",
       "    <tr>\n",
       "      <th>max</th>\n",
       "      <td>359.999810</td>\n",
       "      <td>83.000519</td>\n",
       "      <td>28.618680</td>\n",
       "      <td>26.817360</td>\n",
       "      <td>25.377300</td>\n",
       "      <td>24.387400</td>\n",
       "      <td>23.600690</td>\n",
       "      <td>1.678503</td>\n",
       "    </tr>\n",
       "    <tr>\n",
       "      <th>skewness</th>\n",
       "      <td>-0.025158</td>\n",
       "      <td>0.193610</td>\n",
       "      <td>-0.076016</td>\n",
       "      <td>-0.355282</td>\n",
       "      <td>-0.375063</td>\n",
       "      <td>-0.298794</td>\n",
       "      <td>-0.141450</td>\n",
       "      <td>1.026725</td>\n",
       "    </tr>\n",
       "    <tr>\n",
       "      <th>variance</th>\n",
       "      <td>9288.716738</td>\n",
       "      <td>386.528609</td>\n",
       "      <td>5.256885</td>\n",
       "      <td>4.328216</td>\n",
       "      <td>3.441895</td>\n",
       "      <td>2.949496</td>\n",
       "      <td>2.928245</td>\n",
       "      <td>0.150573</td>\n",
       "    </tr>\n",
       "    <tr>\n",
       "      <th>kurtosis</th>\n",
       "      <td>-0.541990</td>\n",
       "      <td>-1.020650</td>\n",
       "      <td>-0.704778</td>\n",
       "      <td>-0.687074</td>\n",
       "      <td>-0.709249</td>\n",
       "      <td>-0.585642</td>\n",
       "      <td>-0.420052</td>\n",
       "      <td>0.705209</td>\n",
       "    </tr>\n",
       "  </tbody>\n",
       "</table>\n",
       "</div>"
      ],
      "text/plain": [
       "                 alpha         delta             u             g  \\\n",
       "count     90632.000000  90632.000000  90632.000000  90632.000000   \n",
       "mean        177.251622     23.937649     22.122056     20.610204   \n",
       "std          96.378521     19.660439      2.292802      2.080448   \n",
       "min           0.005528    -18.785328     15.358420     14.318450   \n",
       "25%         127.216162      4.897098     20.278585     18.782272   \n",
       "50%         180.451076     23.282869     22.282950     21.101295   \n",
       "75%         233.738030     39.543850     23.797190     22.194585   \n",
       "max         359.999810     83.000519     28.618680     26.817360   \n",
       "skewness     -0.025158      0.193610     -0.076016     -0.355282   \n",
       "variance   9288.716738    386.528609      5.256885      4.328216   \n",
       "kurtosis     -0.541990     -1.020650     -0.704778     -0.687074   \n",
       "\n",
       "                     r             i             z      redshift  \n",
       "count     90632.000000  90632.000000  90632.000000  90632.000000  \n",
       "mean         19.548431     18.947715     18.617602      0.393794  \n",
       "std           1.855245      1.717419      1.711221      0.388040  \n",
       "min          13.990440     13.862170     13.774360     -0.009971  \n",
       "25%          17.908307     17.514490     17.268732      0.027621  \n",
       "50%          19.993500     19.259190     18.860795      0.344860  \n",
       "75%          20.961493     20.176790     19.724610      0.602210  \n",
       "max          25.377300     24.387400     23.600690      1.678503  \n",
       "skewness     -0.375063     -0.298794     -0.141450      1.026725  \n",
       "variance      3.441895      2.949496      2.928245      0.150573  \n",
       "kurtosis     -0.709249     -0.585642     -0.420052      0.705209  "
      ]
     },
     "execution_count": 16,
     "metadata": {},
     "output_type": "execute_result"
    }
   ],
   "source": [
    "descriptive_stats "
   ]
  },
  {
   "cell_type": "code",
   "execution_count": 17,
   "metadata": {},
   "outputs": [],
   "source": [
    "descriptive_stats.to_csv(\"D:/Academic/MSc_Data_Science/Course/8.Technology Dissertation/4. Dissertation/Datasets/sgq_classification_des_stats.csv\")"
   ]
  },
  {
   "attachments": {},
   "cell_type": "markdown",
   "metadata": {},
   "source": [
    "#### Data Pattern Visualization"
   ]
  },
  {
   "attachments": {},
   "cell_type": "markdown",
   "metadata": {},
   "source": [
    "##### Visualization of distribution of astronomical objects of stars, galaxies and quasars"
   ]
  },
  {
   "cell_type": "code",
   "execution_count": 18,
   "metadata": {},
   "outputs": [],
   "source": [
    "# filtering each class\n",
    "stars = dfx[dfx['class'] == 'STAR']\n",
    "quasars = dfx[dfx['class'] == 'QSO']\n",
    "galaxies = dfx[dfx['class'] == 'GALAXY']"
   ]
  },
  {
   "cell_type": "code",
   "execution_count": 21,
   "metadata": {},
   "outputs": [
    {
     "name": "stderr",
     "output_type": "stream",
     "text": [
      "c:\\Users\\Asus\\AppData\\Local\\Programs\\Python\\Python310\\lib\\site-packages\\seaborn\\_decorators.py:36: FutureWarning: Pass the following variable as a keyword arg: x. From version 0.12, the only valid positional argument will be `data`, and passing other arguments without an explicit keyword will result in an error or misinterpretation.\n",
      "  warnings.warn(\n"
     ]
    },
    {
     "data": {
      "image/png": "[encoded data removed]",
      "text/plain": [
       "<Figure size 720x576 with 1 Axes>"
      ]
     },
     "metadata": {},
     "output_type": "display_data"
    }
   ],
   "source": [
    "# visualizing distribution of each class\n",
    "\n",
    "import seaborn as sns\n",
    "import matplotlib.pyplot as plt\n",
    "\n",
    "sns.set()\n",
    "fig = plt.gcf()\n",
    "fig.set_size_inches(10,8)\n",
    "sns.countplot(dfx['class'], palette='GnBu_d')\n",
    "plt.show()"
   ]
  },
  {
   "cell_type": "code",
   "execution_count": 26,
   "metadata": {},
   "outputs": [
    {
     "name": "stdout",
     "output_type": "stream",
     "text": [
      "GALAXY    59132\n",
      "STAR      21514\n",
      "QSO        9986\n",
      "Name: class, dtype: int64\n"
     ]
    }
   ],
   "source": [
    "# to obtaing number of objects from each class\n",
    "value_counts = dfx['class'].value_counts()\n",
    "\n",
    "print(value_counts)"
   ]
  },
  {
   "attachments": {},
   "cell_type": "markdown",
   "metadata": {},
   "source": [
    "##### Distribution of redshifts for each class"
   ]
  },
  {
   "cell_type": "code",
   "execution_count": 25,
   "metadata": {},
   "outputs": [
    {
     "name": "stderr",
     "output_type": "stream",
     "text": [
      "c:\\Users\\Asus\\AppData\\Local\\Programs\\Python\\Python310\\lib\\site-packages\\seaborn\\_decorators.py:36: FutureWarning: Pass the following variable as a keyword arg: x. From version 0.12, the only valid positional argument will be `data`, and passing other arguments without an explicit keyword will result in an error or misinterpretation.\n",
      "  warnings.warn(\n",
      "c:\\Users\\Asus\\AppData\\Local\\Programs\\Python\\Python310\\lib\\site-packages\\seaborn\\_decorators.py:36: FutureWarning: Pass the following variable as a keyword arg: x. From version 0.12, the only valid positional argument will be `data`, and passing other arguments without an explicit keyword will result in an error or misinterpretation.\n",
      "  warnings.warn(\n",
      "c:\\Users\\Asus\\AppData\\Local\\Programs\\Python\\Python310\\lib\\site-packages\\seaborn\\_decorators.py:36: FutureWarning: Pass the following variable as a keyword arg: x. From version 0.12, the only valid positional argument will be `data`, and passing other arguments without an explicit keyword will result in an error or misinterpretation.\n",
      "  warnings.warn(\n"
     ]
    },
    {
     "data": {
      "image/png": "[encoded data removed]",
      "text/plain": [
       "<Figure size 936x648 with 3 Axes>"
      ]
     },
     "metadata": {},
     "output_type": "display_data"
    }
   ],
   "source": [
    "sns.set(style='darkgrid')\n",
    "fig, axs = plt.subplots(nrows=3)\n",
    "fig = plt.gcf()\n",
    "fig.set_size_inches(13,9)\n",
    "plt.subplots_adjust(hspace=1)\n",
    "sns.boxplot(stars['redshift'], palette='GnBu_d', ax=axs[0]).set_title('Stars')\n",
    "sns.boxplot(galaxies['redshift'], palette='GnBu_d', ax=axs[1]).set_title('Galaxies')\n",
    "sns.boxplot(quasars['redshift'], palette='GnBu_d', ax=axs[2]).set_title('Quasars')\n",
    "plt.show()"
   ]
  }
 ],
 "metadata": {
  "kernelspec": {
   "display_name": "Python 3",
   "language": "python",
   "name": "python3"
  },
  "language_info": {
   "codemirror_mode": {
    "name": "ipython",
    "version": 3
   },
   "file_extension": ".py",
   "mimetype": "text/x-python",
   "name": "python",
   "nbconvert_exporter": "python",
   "pygments_lexer": "ipython3",
   "version": "3.10.0"
  },
  "orig_nbformat": 4
 },
 "nbformat": 4,
 "nbformat_minor": 2
}
