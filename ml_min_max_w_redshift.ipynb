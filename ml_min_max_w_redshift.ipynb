{
 "cells": [
  {
   "attachments": {},
   "cell_type": "markdown",
   "metadata": {},
   "source": [
    "### Dataset - Normalized with Min-max method / Without Redshift"
   ]
  },
  {
   "attachments": {},
   "cell_type": "markdown",
   "metadata": {},
   "source": [
    "#### Random Forest algorithm "
   ]
  },
  {
   "cell_type": "code",
   "execution_count": 244,
   "metadata": {},
   "outputs": [],
   "source": [
    "import pandas as pd # for Dataframe manupulation\n",
    "import matplotlib.pyplot as plt #for data visualization\n",
    "import seaborn as sns #for data visualization\n",
    "import numpy as np # for arrays manipulation\n",
    "from sklearn.metrics import accuracy_score, precision_score, recall_score, f1_score, roc_curve, auc \n",
    "# to import evaluation metrices"
   ]
  },
  {
   "cell_type": "code",
   "execution_count": 245,
   "metadata": {},
   "outputs": [],
   "source": [
    "df_mm_wr = pd.read_csv(\"D:/Academic/MSc_Data_Science/Course/8.Technology Dissertation/4. Dissertation/Datasets/sgq_classification_mm_wr.csv\")"
   ]
  },
  {
   "cell_type": "code",
   "execution_count": 246,
   "metadata": {},
   "outputs": [
    {
     "data": {
      "text/html": [
       "<div>\n",
       "<style scoped>\n",
       "    .dataframe tbody tr th:only-of-type {\n",
       "        vertical-align: middle;\n",
       "    }\n",
       "\n",
       "    .dataframe tbody tr th {\n",
       "        vertical-align: top;\n",
       "    }\n",
       "\n",
       "    .dataframe thead th {\n",
       "        text-align: right;\n",
       "    }\n",
       "</style>\n",
       "<table border=\"1\" class=\"dataframe\">\n",
       "  <thead>\n",
       "    <tr style=\"text-align: right;\">\n",
       "      <th></th>\n",
       "      <th>alpha</th>\n",
       "      <th>delta</th>\n",
       "      <th>u</th>\n",
       "      <th>g</th>\n",
       "      <th>r</th>\n",
       "      <th>i</th>\n",
       "      <th>z</th>\n",
       "      <th>class</th>\n",
       "    </tr>\n",
       "  </thead>\n",
       "  <tbody>\n",
       "    <tr>\n",
       "      <th>0</th>\n",
       "      <td>0.472803</td>\n",
       "      <td>0.677462</td>\n",
       "      <td>0.998994</td>\n",
       "      <td>0.999092</td>\n",
       "      <td>0.527008</td>\n",
       "      <td>0.434177</td>\n",
       "      <td>0.999009</td>\n",
       "      <td>0</td>\n",
       "    </tr>\n",
       "    <tr>\n",
       "      <th>1</th>\n",
       "      <td>0.303044</td>\n",
       "      <td>0.572530</td>\n",
       "      <td>0.998695</td>\n",
       "      <td>0.998925</td>\n",
       "      <td>0.527996</td>\n",
       "      <td>0.489885</td>\n",
       "      <td>0.999222</td>\n",
       "      <td>0</td>\n",
       "    </tr>\n",
       "    <tr>\n",
       "      <th>2</th>\n",
       "      <td>0.005302</td>\n",
       "      <td>0.362428</td>\n",
       "      <td>0.998932</td>\n",
       "      <td>0.999082</td>\n",
       "      <td>0.555528</td>\n",
       "      <td>0.516271</td>\n",
       "      <td>0.999187</td>\n",
       "      <td>0</td>\n",
       "    </tr>\n",
       "    <tr>\n",
       "      <th>3</th>\n",
       "      <td>0.474755</td>\n",
       "      <td>0.380538</td>\n",
       "      <td>0.998767</td>\n",
       "      <td>0.998804</td>\n",
       "      <td>0.388109</td>\n",
       "      <td>0.333769</td>\n",
       "      <td>0.998792</td>\n",
       "      <td>0</td>\n",
       "    </tr>\n",
       "    <tr>\n",
       "      <th>4</th>\n",
       "      <td>0.595306</td>\n",
       "      <td>0.213180</td>\n",
       "      <td>0.998691</td>\n",
       "      <td>0.998716</td>\n",
       "      <td>0.350548</td>\n",
       "      <td>0.302683</td>\n",
       "      <td>0.998723</td>\n",
       "      <td>0</td>\n",
       "    </tr>\n",
       "    <tr>\n",
       "      <th>...</th>\n",
       "      <td>...</td>\n",
       "      <td>...</td>\n",
       "      <td>...</td>\n",
       "      <td>...</td>\n",
       "      <td>...</td>\n",
       "      <td>...</td>\n",
       "      <td>...</td>\n",
       "      <td>...</td>\n",
       "    </tr>\n",
       "    <tr>\n",
       "      <th>56878</th>\n",
       "      <td>0.570563</td>\n",
       "      <td>0.572008</td>\n",
       "      <td>0.998900</td>\n",
       "      <td>0.999043</td>\n",
       "      <td>0.558451</td>\n",
       "      <td>0.497201</td>\n",
       "      <td>0.999193</td>\n",
       "      <td>2</td>\n",
       "    </tr>\n",
       "    <tr>\n",
       "      <th>56879</th>\n",
       "      <td>0.036093</td>\n",
       "      <td>0.193240</td>\n",
       "      <td>0.999066</td>\n",
       "      <td>0.999016</td>\n",
       "      <td>0.481001</td>\n",
       "      <td>0.380677</td>\n",
       "      <td>0.998867</td>\n",
       "      <td>2</td>\n",
       "    </tr>\n",
       "    <tr>\n",
       "      <th>56880</th>\n",
       "      <td>0.560834</td>\n",
       "      <td>0.539862</td>\n",
       "      <td>0.998664</td>\n",
       "      <td>0.998771</td>\n",
       "      <td>0.407412</td>\n",
       "      <td>0.363928</td>\n",
       "      <td>0.998888</td>\n",
       "      <td>2</td>\n",
       "    </tr>\n",
       "    <tr>\n",
       "      <th>56881</th>\n",
       "      <td>0.016374</td>\n",
       "      <td>0.528663</td>\n",
       "      <td>0.998509</td>\n",
       "      <td>0.998588</td>\n",
       "      <td>0.299670</td>\n",
       "      <td>0.277048</td>\n",
       "      <td>0.998685</td>\n",
       "      <td>2</td>\n",
       "    </tr>\n",
       "    <tr>\n",
       "      <th>56882</th>\n",
       "      <td>0.291930</td>\n",
       "      <td>0.299777</td>\n",
       "      <td>0.998540</td>\n",
       "      <td>0.998615</td>\n",
       "      <td>0.341893</td>\n",
       "      <td>0.301310</td>\n",
       "      <td>0.998753</td>\n",
       "      <td>2</td>\n",
       "    </tr>\n",
       "  </tbody>\n",
       "</table>\n",
       "<p>56883 rows × 8 columns</p>\n",
       "</div>"
      ],
      "text/plain": [
       "          alpha     delta         u         g         r         i         z  \\\n",
       "0      0.472803  0.677462  0.998994  0.999092  0.527008  0.434177  0.999009   \n",
       "1      0.303044  0.572530  0.998695  0.998925  0.527996  0.489885  0.999222   \n",
       "2      0.005302  0.362428  0.998932  0.999082  0.555528  0.516271  0.999187   \n",
       "3      0.474755  0.380538  0.998767  0.998804  0.388109  0.333769  0.998792   \n",
       "4      0.595306  0.213180  0.998691  0.998716  0.350548  0.302683  0.998723   \n",
       "...         ...       ...       ...       ...       ...       ...       ...   \n",
       "56878  0.570563  0.572008  0.998900  0.999043  0.558451  0.497201  0.999193   \n",
       "56879  0.036093  0.193240  0.999066  0.999016  0.481001  0.380677  0.998867   \n",
       "56880  0.560834  0.539862  0.998664  0.998771  0.407412  0.363928  0.998888   \n",
       "56881  0.016374  0.528663  0.998509  0.998588  0.299670  0.277048  0.998685   \n",
       "56882  0.291930  0.299777  0.998540  0.998615  0.341893  0.301310  0.998753   \n",
       "\n",
       "       class  \n",
       "0          0  \n",
       "1          0  \n",
       "2          0  \n",
       "3          0  \n",
       "4          0  \n",
       "...      ...  \n",
       "56878      2  \n",
       "56879      2  \n",
       "56880      2  \n",
       "56881      2  \n",
       "56882      2  \n",
       "\n",
       "[56883 rows x 8 columns]"
      ]
     },
     "execution_count": 246,
     "metadata": {},
     "output_type": "execute_result"
    }
   ],
   "source": [
    "df_mm_wr"
   ]
  },
  {
   "cell_type": "code",
   "execution_count": 247,
   "metadata": {},
   "outputs": [
    {
     "data": {
      "text/html": [
       "<div>\n",
       "<style scoped>\n",
       "    .dataframe tbody tr th:only-of-type {\n",
       "        vertical-align: middle;\n",
       "    }\n",
       "\n",
       "    .dataframe tbody tr th {\n",
       "        vertical-align: top;\n",
       "    }\n",
       "\n",
       "    .dataframe thead th {\n",
       "        text-align: right;\n",
       "    }\n",
       "</style>\n",
       "<table border=\"1\" class=\"dataframe\">\n",
       "  <thead>\n",
       "    <tr style=\"text-align: right;\">\n",
       "      <th></th>\n",
       "      <th>alpha</th>\n",
       "      <th>delta</th>\n",
       "      <th>u</th>\n",
       "      <th>g</th>\n",
       "      <th>r</th>\n",
       "      <th>i</th>\n",
       "      <th>z</th>\n",
       "    </tr>\n",
       "  </thead>\n",
       "  <tbody>\n",
       "    <tr>\n",
       "      <th>0</th>\n",
       "      <td>0.472803</td>\n",
       "      <td>0.677462</td>\n",
       "      <td>0.998994</td>\n",
       "      <td>0.999092</td>\n",
       "      <td>0.527008</td>\n",
       "      <td>0.434177</td>\n",
       "      <td>0.999009</td>\n",
       "    </tr>\n",
       "    <tr>\n",
       "      <th>1</th>\n",
       "      <td>0.303044</td>\n",
       "      <td>0.572530</td>\n",
       "      <td>0.998695</td>\n",
       "      <td>0.998925</td>\n",
       "      <td>0.527996</td>\n",
       "      <td>0.489885</td>\n",
       "      <td>0.999222</td>\n",
       "    </tr>\n",
       "    <tr>\n",
       "      <th>2</th>\n",
       "      <td>0.005302</td>\n",
       "      <td>0.362428</td>\n",
       "      <td>0.998932</td>\n",
       "      <td>0.999082</td>\n",
       "      <td>0.555528</td>\n",
       "      <td>0.516271</td>\n",
       "      <td>0.999187</td>\n",
       "    </tr>\n",
       "    <tr>\n",
       "      <th>3</th>\n",
       "      <td>0.474755</td>\n",
       "      <td>0.380538</td>\n",
       "      <td>0.998767</td>\n",
       "      <td>0.998804</td>\n",
       "      <td>0.388109</td>\n",
       "      <td>0.333769</td>\n",
       "      <td>0.998792</td>\n",
       "    </tr>\n",
       "    <tr>\n",
       "      <th>4</th>\n",
       "      <td>0.595306</td>\n",
       "      <td>0.213180</td>\n",
       "      <td>0.998691</td>\n",
       "      <td>0.998716</td>\n",
       "      <td>0.350548</td>\n",
       "      <td>0.302683</td>\n",
       "      <td>0.998723</td>\n",
       "    </tr>\n",
       "  </tbody>\n",
       "</table>\n",
       "</div>"
      ],
      "text/plain": [
       "      alpha     delta         u         g         r         i         z\n",
       "0  0.472803  0.677462  0.998994  0.999092  0.527008  0.434177  0.999009\n",
       "1  0.303044  0.572530  0.998695  0.998925  0.527996  0.489885  0.999222\n",
       "2  0.005302  0.362428  0.998932  0.999082  0.555528  0.516271  0.999187\n",
       "3  0.474755  0.380538  0.998767  0.998804  0.388109  0.333769  0.998792\n",
       "4  0.595306  0.213180  0.998691  0.998716  0.350548  0.302683  0.998723"
      ]
     },
     "execution_count": 247,
     "metadata": {},
     "output_type": "execute_result"
    }
   ],
   "source": [
    "x = df_mm_wr.drop(\"class\",axis='columns')\n",
    "x.head()"
   ]
  },
  {
   "cell_type": "code",
   "execution_count": 248,
   "metadata": {},
   "outputs": [
    {
     "data": {
      "text/plain": [
       "0        0\n",
       "1        0\n",
       "2        0\n",
       "3        0\n",
       "4        0\n",
       "        ..\n",
       "56878    2\n",
       "56879    2\n",
       "56880    2\n",
       "56881    2\n",
       "56882    2\n",
       "Name: class, Length: 56883, dtype: int64"
      ]
     },
     "execution_count": 248,
     "metadata": {},
     "output_type": "execute_result"
    }
   ],
   "source": [
    "y = df_mm_wr[\"class\"]\n",
    "y"
   ]
  },
  {
   "cell_type": "code",
   "execution_count": 249,
   "metadata": {},
   "outputs": [],
   "source": [
    "from sklearn.model_selection import train_test_split\n",
    "x_train,x_test,y_train,y_test = train_test_split(x,y,test_size=0.1,random_state=42, stratify=y)"
   ]
  },
  {
   "cell_type": "code",
   "execution_count": 250,
   "metadata": {},
   "outputs": [
    {
     "data": {
      "text/plain": [
       "RandomForestClassifier(random_state=42)"
      ]
     },
     "execution_count": 250,
     "metadata": {},
     "output_type": "execute_result"
    }
   ],
   "source": [
    "from sklearn.ensemble import RandomForestClassifier\n",
    "\n",
    "# initializing model\n",
    "model_rf = RandomForestClassifier(n_estimators=100, random_state=42)\n",
    "model_rf.fit(x_train,y_train)"
   ]
  },
  {
   "cell_type": "code",
   "execution_count": 251,
   "metadata": {},
   "outputs": [],
   "source": [
    "y_pred = model_rf.predict(x_test)\n"
   ]
  },
  {
   "cell_type": "code",
   "execution_count": 252,
   "metadata": {},
   "outputs": [
    {
     "data": {
      "text/plain": [
       "array([[1715,   77,  104],\n",
       "       [ 131, 1620,  145],\n",
       "       [ 169,  228, 1500]], dtype=int64)"
      ]
     },
     "execution_count": 252,
     "metadata": {},
     "output_type": "execute_result"
    }
   ],
   "source": [
    "from sklearn.metrics import confusion_matrix\n",
    "\n",
    "# to obtain confusion matrix\n",
    "cm = confusion_matrix(y_test,y_pred)\n",
    "cm"
   ]
  },
  {
   "cell_type": "code",
   "execution_count": 253,
   "metadata": {},
   "outputs": [
    {
     "data": {
      "text/plain": [
       "Text(33.0, 0.5, 'y_predicted')"
      ]
     },
     "execution_count": 253,
     "metadata": {},
     "output_type": "execute_result"
    },
    {
     "data": {
      "image/png": "[encoded data removed]",
      "text/plain": [
       "<Figure size 432x288 with 2 Axes>"
      ]
     },
     "metadata": {
      "needs_background": "light"
     },
     "output_type": "display_data"
    }
   ],
   "source": [
    "#to plot the heatmap using the confusion matrix\n",
    "\n",
    "sns.heatmap(cm,annot=True)\n",
    "plt.xlabel(\"y_truth\")\n",
    "plt.ylabel(\"y_predicted\")"
   ]
  },
  {
   "cell_type": "code",
   "execution_count": 254,
   "metadata": {},
   "outputs": [
    {
     "name": "stdout",
     "output_type": "stream",
     "text": [
      "Accuracy: 0.8498857444190543\n",
      "Precision: 0.8501026666577488\n",
      "Recall: 0.8498961458873179\n",
      "F1 Score: 0.8492595479199906\n"
     ]
    }
   ],
   "source": [
    "# calculate evaluation metrics\n",
    "accuracy = accuracy_score(y_test, y_pred)\n",
    "precision = precision_score(y_test, y_pred, average='macro')\n",
    "recall = recall_score(y_test, y_pred, average='macro')\n",
    "f1 = f1_score(y_test, y_pred, average='macro')\n",
    "\n",
    "\n",
    "# print evaluation metrics\n",
    "print(\"Accuracy:\", accuracy)\n",
    "print(\"Precision:\", precision)\n",
    "print(\"Recall:\", recall)\n",
    "print(\"F1 Score:\", f1)"
   ]
  },
  {
   "attachments": {},
   "cell_type": "markdown",
   "metadata": {},
   "source": [
    "#### Support Vector Machine (SVM) algorithm"
   ]
  },
  {
   "cell_type": "code",
   "execution_count": 256,
   "metadata": {},
   "outputs": [
    {
     "data": {
      "text/plain": [
       "SVC(C=1, kernel='linear')"
      ]
     },
     "execution_count": 256,
     "metadata": {},
     "output_type": "execute_result"
    }
   ],
   "source": [
    "from sklearn.svm import SVC #importing SVC class\n",
    "\n",
    "# Split the data into training and test sets\n",
    "x_train, x_test, y_train, y_test = train_test_split(x, y, test_size=0.1, random_state=42,stratify=y)\n",
    "\n",
    "# training the SVM model\n",
    "model_svm = SVC(kernel='linear', C=1)\n",
    "model_svm.fit(x_train, y_train)\n"
   ]
  },
  {
   "cell_type": "code",
   "execution_count": 257,
   "metadata": {},
   "outputs": [],
   "source": [
    "y_pred = model_svm.predict(x_test)"
   ]
  },
  {
   "cell_type": "code",
   "execution_count": 258,
   "metadata": {},
   "outputs": [
    {
     "data": {
      "text/plain": [
       "array([[1083,  173,  640],\n",
       "       [ 109, 1543,  244],\n",
       "       [ 385,  542,  970]], dtype=int64)"
      ]
     },
     "execution_count": 258,
     "metadata": {},
     "output_type": "execute_result"
    }
   ],
   "source": [
    "# to obtain confusion matrix\n",
    "cm = confusion_matrix(y_test,y_pred)\n",
    "cm"
   ]
  },
  {
   "cell_type": "code",
   "execution_count": 259,
   "metadata": {},
   "outputs": [
    {
     "data": {
      "text/plain": [
       "Text(33.0, 0.5, 'y_predicted')"
      ]
     },
     "execution_count": 259,
     "metadata": {},
     "output_type": "execute_result"
    },
    {
     "data": {
      "image/png": "[encoded data removed]",
      "text/plain": [
       "<Figure size 432x288 with 2 Axes>"
      ]
     },
     "metadata": {
      "needs_background": "light"
     },
     "output_type": "display_data"
    }
   ],
   "source": [
    "#to plot the heatmap using the confusion matrix\n",
    "\n",
    "sns.heatmap(cm,annot=True)\n",
    "plt.xlabel(\"y_truth\")\n",
    "plt.ylabel(\"y_predicted\")"
   ]
  },
  {
   "cell_type": "code",
   "execution_count": 260,
   "metadata": {},
   "outputs": [
    {
     "name": "stdout",
     "output_type": "stream",
     "text": [
      "Accuracy: 0.6320970293548954\n",
      "Precision: 0.6310960598734378\n",
      "Recall: 0.6321182606039443\n",
      "F1 Score: 0.6279207080090852\n"
     ]
    }
   ],
   "source": [
    "# calculate evaluation metrics\n",
    "accuracy = accuracy_score(y_test, y_pred)\n",
    "precision = precision_score(y_test, y_pred, average='macro')\n",
    "recall = recall_score(y_test, y_pred, average='macro')\n",
    "f1 = f1_score(y_test, y_pred, average='macro')\n",
    "\n",
    "\n",
    "# print evaluation metrics\n",
    "print(\"Accuracy:\", accuracy)\n",
    "print(\"Precision:\", precision)\n",
    "print(\"Recall:\", recall)\n",
    "print(\"F1 Score:\", f1)"
   ]
  },
  {
   "attachments": {},
   "cell_type": "markdown",
   "metadata": {},
   "source": [
    "#### Extremely Randomized Trees (ERT) algorithm"
   ]
  },
  {
   "cell_type": "code",
   "execution_count": 262,
   "metadata": {},
   "outputs": [
    {
     "data": {
      "text/plain": [
       "ExtraTreesClassifier()"
      ]
     },
     "execution_count": 262,
     "metadata": {},
     "output_type": "execute_result"
    }
   ],
   "source": [
    "from sklearn.ensemble import ExtraTreesClassifier #importing extra trees classifier\n",
    "\n",
    "# Split the data into training and test sets\n",
    "x_train, x_test, y_train, y_test = train_test_split(x, y, test_size=0.1, random_state=42,stratify=y)\n",
    "\n",
    "# initializing the ERT model and fit it to the training data\n",
    "model_ert = ExtraTreesClassifier(n_estimators=100, max_depth=None, min_samples_split=2)\n",
    "model_ert.fit(x_train, y_train)"
   ]
  },
  {
   "cell_type": "code",
   "execution_count": 263,
   "metadata": {},
   "outputs": [],
   "source": [
    "y_pred = model_ert.predict(x_test)"
   ]
  },
  {
   "cell_type": "code",
   "execution_count": 264,
   "metadata": {},
   "outputs": [
    {
     "data": {
      "text/plain": [
       "array([[1722,   76,   98],\n",
       "       [ 142, 1610,  144],\n",
       "       [ 197,  253, 1447]], dtype=int64)"
      ]
     },
     "execution_count": 264,
     "metadata": {},
     "output_type": "execute_result"
    }
   ],
   "source": [
    "# to obtain confusion matrix\n",
    "cm = confusion_matrix(y_test,y_pred)\n",
    "cm"
   ]
  },
  {
   "cell_type": "code",
   "execution_count": 265,
   "metadata": {},
   "outputs": [
    {
     "data": {
      "text/plain": [
       "Text(33.0, 0.5, 'y_predicted')"
      ]
     },
     "execution_count": 265,
     "metadata": {},
     "output_type": "execute_result"
    },
    {
     "data": {
      "image/png": "[encoded data removed]",
      "text/plain": [
       "<Figure size 432x288 with 2 Axes>"
      ]
     },
     "metadata": {
      "needs_background": "light"
     },
     "output_type": "display_data"
    }
   ],
   "source": [
    "#to plot the heatmap using the confusion matrix\n",
    "\n",
    "sns.heatmap(cm,annot=True)\n",
    "plt.xlabel(\"y_truth\")\n",
    "plt.ylabel(\"y_predicted\")"
   ]
  },
  {
   "cell_type": "code",
   "execution_count": 266,
   "metadata": {},
   "outputs": [
    {
     "name": "stdout",
     "output_type": "stream",
     "text": [
      "Accuracy: 0.8400421866760415\n",
      "Precision: 0.840853867276286\n",
      "Recall: 0.8400557694546205\n",
      "F1 Score: 0.8390062001276757\n"
     ]
    }
   ],
   "source": [
    "# calculate evaluation metrics\n",
    "accuracy = accuracy_score(y_test, y_pred)\n",
    "precision = precision_score(y_test, y_pred, average='macro')\n",
    "recall = recall_score(y_test, y_pred, average='macro')\n",
    "f1 = f1_score(y_test, y_pred, average='macro')\n",
    "\n",
    "\n",
    "# print evaluation metrics\n",
    "print(\"Accuracy:\", accuracy)\n",
    "print(\"Precision:\", precision)\n",
    "print(\"Recall:\", recall)\n",
    "print(\"F1 Score:\", f1)"
   ]
  },
  {
   "attachments": {},
   "cell_type": "markdown",
   "metadata": {},
   "source": [
    "####  Decision Tree algorithm"
   ]
  },
  {
   "cell_type": "code",
   "execution_count": 268,
   "metadata": {},
   "outputs": [
    {
     "data": {
      "text/plain": [
       "DecisionTreeClassifier()"
      ]
     },
     "execution_count": 268,
     "metadata": {},
     "output_type": "execute_result"
    }
   ],
   "source": [
    "from sklearn.tree import DecisionTreeClassifier #importing decision tree module\n",
    "\n",
    "# Split the data into training and test sets\n",
    "x_train, x_test, y_train, y_test = train_test_split(x, y, test_size=0.1, random_state=42,stratify=y)\n",
    "\n",
    "# initializing the decision tree model and fit it to the training data\n",
    "model_dt = DecisionTreeClassifier()\n",
    "model_dt.fit(x_train, y_train)"
   ]
  },
  {
   "cell_type": "code",
   "execution_count": 269,
   "metadata": {},
   "outputs": [],
   "source": [
    "y_pred = model_dt.predict(x_test)"
   ]
  },
  {
   "cell_type": "code",
   "execution_count": 270,
   "metadata": {},
   "outputs": [
    {
     "data": {
      "text/plain": [
       "array([[1507,  165,  224],\n",
       "       [ 182, 1450,  264],\n",
       "       [ 226,  248, 1423]], dtype=int64)"
      ]
     },
     "execution_count": 270,
     "metadata": {},
     "output_type": "execute_result"
    }
   ],
   "source": [
    "# to obtain confusion matrix\n",
    "cm = confusion_matrix(y_test,y_pred)\n",
    "cm"
   ]
  },
  {
   "cell_type": "code",
   "execution_count": 271,
   "metadata": {},
   "outputs": [
    {
     "data": {
      "text/plain": [
       "Text(33.0, 0.5, 'y_predicted')"
      ]
     },
     "execution_count": 271,
     "metadata": {},
     "output_type": "execute_result"
    },
    {
     "data": {
      "image/png": "[encoded data removed]",
      "text/plain": [
       "<Figure size 432x288 with 2 Axes>"
      ]
     },
     "metadata": {
      "needs_background": "light"
     },
     "output_type": "display_data"
    }
   ],
   "source": [
    "#to plot the heatmap using the confusion matrix\n",
    "\n",
    "sns.heatmap(cm,annot=True)\n",
    "plt.xlabel(\"y_truth\")\n",
    "plt.ylabel(\"y_predicted\")"
   ]
  },
  {
   "cell_type": "code",
   "execution_count": 272,
   "metadata": {},
   "outputs": [
    {
     "name": "stdout",
     "output_type": "stream",
     "text": [
      "Accuracy: 0.769906837757075\n",
      "Precision: 0.7699653440693899\n",
      "Recall: 0.769910314383433\n",
      "F1 Score: 0.7699080883631849\n"
     ]
    }
   ],
   "source": [
    "# calculate evaluation metrics\n",
    "accuracy = accuracy_score(y_test, y_pred)\n",
    "precision = precision_score(y_test, y_pred, average='macro')\n",
    "recall = recall_score(y_test, y_pred, average='macro')\n",
    "f1 = f1_score(y_test, y_pred, average='macro')\n",
    "\n",
    "\n",
    "# print evaluation metrics\n",
    "print(\"Accuracy:\", accuracy)\n",
    "print(\"Precision:\", precision)\n",
    "print(\"Recall:\", recall)\n",
    "print(\"F1 Score:\", f1)"
   ]
  },
  {
   "attachments": {},
   "cell_type": "markdown",
   "metadata": {},
   "source": [
    "#### KNN algorithm"
   ]
  },
  {
   "cell_type": "code",
   "execution_count": 274,
   "metadata": {},
   "outputs": [
    {
     "data": {
      "text/plain": [
       "KNeighborsClassifier()"
      ]
     },
     "execution_count": 274,
     "metadata": {},
     "output_type": "execute_result"
    }
   ],
   "source": [
    "from sklearn.neighbors import KNeighborsClassifier # importing KNN module\n",
    "\n",
    "# Split the data into training and test sets\n",
    "x_train, x_test, y_train, y_test = train_test_split(x, y, test_size=0.1, random_state=42,stratify=y)\n",
    "\n",
    "# initializing the knn model and fit it to the training data\n",
    "model_knn = KNeighborsClassifier(n_neighbors=5)\n",
    "model_knn.fit(x_train, y_train)"
   ]
  },
  {
   "cell_type": "code",
   "execution_count": 275,
   "metadata": {},
   "outputs": [],
   "source": [
    "y_pred = model_knn.predict(x_test)"
   ]
  },
  {
   "cell_type": "code",
   "execution_count": 276,
   "metadata": {},
   "outputs": [
    {
     "data": {
      "text/plain": [
       "array([[1563,  130,  203],\n",
       "       [ 196, 1455,  245],\n",
       "       [ 391,  489, 1017]], dtype=int64)"
      ]
     },
     "execution_count": 276,
     "metadata": {},
     "output_type": "execute_result"
    }
   ],
   "source": [
    "# to obtain confusion matrix\n",
    "cm = confusion_matrix(y_test,y_pred)\n",
    "cm"
   ]
  },
  {
   "cell_type": "code",
   "execution_count": 277,
   "metadata": {},
   "outputs": [
    {
     "data": {
      "text/plain": [
       "Text(33.0, 0.5, 'y_predicted')"
      ]
     },
     "execution_count": 277,
     "metadata": {},
     "output_type": "execute_result"
    },
    {
     "data": {
      "image/png": "[encoded data removed]",
      "text/plain": [
       "<Figure size 432x288 with 2 Axes>"
      ]
     },
     "metadata": {
      "needs_background": "light"
     },
     "output_type": "display_data"
    }
   ],
   "source": [
    "#to plot the heatmap using the confusion matrix\n",
    "\n",
    "sns.heatmap(cm,annot=True)\n",
    "plt.xlabel(\"y_truth\")\n",
    "plt.ylabel(\"y_predicted\")"
   ]
  },
  {
   "cell_type": "code",
   "execution_count": 278,
   "metadata": {},
   "outputs": [
    {
     "name": "stdout",
     "output_type": "stream",
     "text": [
      "Accuracy: 0.7092634909474425\n",
      "Precision: 0.7075725362171141\n",
      "Recall: 0.7092939329031628\n",
      "F1 Score: 0.7035364783375316\n"
     ]
    }
   ],
   "source": [
    "# calculate evaluation metrics\n",
    "accuracy = accuracy_score(y_test, y_pred)\n",
    "precision = precision_score(y_test, y_pred, average='macro')\n",
    "recall = recall_score(y_test, y_pred, average='macro')\n",
    "f1 = f1_score(y_test, y_pred, average='macro')\n",
    "\n",
    "\n",
    "# print evaluation metrics\n",
    "print(\"Accuracy:\", accuracy)\n",
    "print(\"Precision:\", precision)\n",
    "print(\"Recall:\", recall)\n",
    "print(\"F1 Score:\", f1)"
   ]
  }
 ],
 "metadata": {
  "kernelspec": {
   "display_name": "Python 3",
   "language": "python",
   "name": "python3"
  },
  "language_info": {
   "codemirror_mode": {
    "name": "ipython",
    "version": 3
   },
   "file_extension": ".py",
   "mimetype": "text/x-python",
   "name": "python",
   "nbconvert_exporter": "python",
   "pygments_lexer": "ipython3",
   "version": "3.10.0"
  },
  "orig_nbformat": 4,
  "vscode": {
   "interpreter": {
    "hash": "107d7b120a5b68773a87d4067e673630b35702e55ebab3138143d08b1c4d7cbc"
   }
  }
 },
 "nbformat": 4,
 "nbformat_minor": 2
}
