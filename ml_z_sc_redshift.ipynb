{
 "cells": [
  {
   "attachments": {},
   "cell_type": "markdown",
   "metadata": {},
   "source": [
    "## ML model training and evaluation - 04"
   ]
  },
  {
   "attachments": {},
   "cell_type": "markdown",
   "metadata": {},
   "source": [
    "### Dataset - Normalized with Z-Score method / With Redshift"
   ]
  },
  {
   "attachments": {},
   "cell_type": "markdown",
   "metadata": {},
   "source": [
    "#### Random Forest algorithm "
   ]
  },
  {
   "cell_type": "code",
   "execution_count": 1,
   "metadata": {},
   "outputs": [],
   "source": [
    "import pandas as pd # for Dataframe manupulation\n",
    "import matplotlib.pyplot as plt #for data visualization\n",
    "import seaborn as sns #for data visualization\n",
    "import numpy as np # for arrays manipulation\n",
    "from sklearn.metrics import accuracy_score, precision_score, recall_score, f1_score, roc_curve, auc \n",
    "# to import evaluation metrices"
   ]
  },
  {
   "cell_type": "code",
   "execution_count": 2,
   "metadata": {},
   "outputs": [],
   "source": [
    "df_zc_r = pd.read_csv(\"D:/Academic/MSc_Data_Science/Course/8.Technology Dissertation/4. Dissertation/Datasets/sgq_classification_zc_r.csv\")"
   ]
  },
  {
   "cell_type": "code",
   "execution_count": 3,
   "metadata": {},
   "outputs": [
    {
     "data": {
      "text/html": [
       "<div>\n",
       "<style scoped>\n",
       "    .dataframe tbody tr th:only-of-type {\n",
       "        vertical-align: middle;\n",
       "    }\n",
       "\n",
       "    .dataframe tbody tr th {\n",
       "        vertical-align: top;\n",
       "    }\n",
       "\n",
       "    .dataframe thead th {\n",
       "        text-align: right;\n",
       "    }\n",
       "</style>\n",
       "<table border=\"1\" class=\"dataframe\">\n",
       "  <thead>\n",
       "    <tr style=\"text-align: right;\">\n",
       "      <th></th>\n",
       "      <th>alpha</th>\n",
       "      <th>delta</th>\n",
       "      <th>u</th>\n",
       "      <th>g</th>\n",
       "      <th>r</th>\n",
       "      <th>i</th>\n",
       "      <th>z</th>\n",
       "      <th>redshift</th>\n",
       "      <th>class</th>\n",
       "    </tr>\n",
       "  </thead>\n",
       "  <tbody>\n",
       "    <tr>\n",
       "      <th>0</th>\n",
       "      <td>-0.074487</td>\n",
       "      <td>1.289303</td>\n",
       "      <td>0.026105</td>\n",
       "      <td>0.028179</td>\n",
       "      <td>0.278991</td>\n",
       "      <td>0.019125</td>\n",
       "      <td>0.000182</td>\n",
       "      <td>-0.173181</td>\n",
       "      <td>0</td>\n",
       "    </tr>\n",
       "    <tr>\n",
       "      <th>1</th>\n",
       "      <td>-0.698904</td>\n",
       "      <td>0.750608</td>\n",
       "      <td>-0.045018</td>\n",
       "      <td>-0.011422</td>\n",
       "      <td>0.289704</td>\n",
       "      <td>0.731347</td>\n",
       "      <td>0.051148</td>\n",
       "      <td>-0.779582</td>\n",
       "      <td>0</td>\n",
       "    </tr>\n",
       "    <tr>\n",
       "      <th>2</th>\n",
       "      <td>-1.794078</td>\n",
       "      <td>-0.327996</td>\n",
       "      <td>0.011324</td>\n",
       "      <td>0.026022</td>\n",
       "      <td>0.588107</td>\n",
       "      <td>1.068690</td>\n",
       "      <td>0.042780</td>\n",
       "      <td>-0.399170</td>\n",
       "      <td>0</td>\n",
       "    </tr>\n",
       "    <tr>\n",
       "      <th>3</th>\n",
       "      <td>-0.067306</td>\n",
       "      <td>-0.235023</td>\n",
       "      <td>-0.027930</td>\n",
       "      <td>-0.040495</td>\n",
       "      <td>-1.226457</td>\n",
       "      <td>-1.264591</td>\n",
       "      <td>-0.051649</td>\n",
       "      <td>-0.610805</td>\n",
       "      <td>0</td>\n",
       "    </tr>\n",
       "    <tr>\n",
       "      <th>4</th>\n",
       "      <td>0.376113</td>\n",
       "      <td>-1.094194</td>\n",
       "      <td>-0.046110</td>\n",
       "      <td>-0.061310</td>\n",
       "      <td>-1.633565</td>\n",
       "      <td>-1.662025</td>\n",
       "      <td>-0.067928</td>\n",
       "      <td>-0.636052</td>\n",
       "      <td>0</td>\n",
       "    </tr>\n",
       "    <tr>\n",
       "      <th>...</th>\n",
       "      <td>...</td>\n",
       "      <td>...</td>\n",
       "      <td>...</td>\n",
       "      <td>...</td>\n",
       "      <td>...</td>\n",
       "      <td>...</td>\n",
       "      <td>...</td>\n",
       "      <td>...</td>\n",
       "      <td>...</td>\n",
       "    </tr>\n",
       "    <tr>\n",
       "      <th>56878</th>\n",
       "      <td>0.285100</td>\n",
       "      <td>0.747929</td>\n",
       "      <td>0.003668</td>\n",
       "      <td>0.016591</td>\n",
       "      <td>0.619789</td>\n",
       "      <td>0.824884</td>\n",
       "      <td>0.044223</td>\n",
       "      <td>-0.779929</td>\n",
       "      <td>2</td>\n",
       "    </tr>\n",
       "    <tr>\n",
       "      <th>56879</th>\n",
       "      <td>-1.680821</td>\n",
       "      <td>-1.196559</td>\n",
       "      <td>0.043405</td>\n",
       "      <td>0.010067</td>\n",
       "      <td>-0.219655</td>\n",
       "      <td>-0.664877</td>\n",
       "      <td>-0.033554</td>\n",
       "      <td>-0.779631</td>\n",
       "      <td>2</td>\n",
       "    </tr>\n",
       "    <tr>\n",
       "      <th>56880</th>\n",
       "      <td>0.249313</td>\n",
       "      <td>0.582905</td>\n",
       "      <td>-0.052432</td>\n",
       "      <td>-0.048213</td>\n",
       "      <td>-1.017237</td>\n",
       "      <td>-0.879015</td>\n",
       "      <td>-0.028594</td>\n",
       "      <td>-0.780040</td>\n",
       "      <td>2</td>\n",
       "    </tr>\n",
       "    <tr>\n",
       "      <th>56881</th>\n",
       "      <td>-1.753353</td>\n",
       "      <td>0.525410</td>\n",
       "      <td>-0.089405</td>\n",
       "      <td>-0.091785</td>\n",
       "      <td>-2.184998</td>\n",
       "      <td>-1.989771</td>\n",
       "      <td>-0.076964</td>\n",
       "      <td>-0.779651</td>\n",
       "      <td>2</td>\n",
       "    </tr>\n",
       "    <tr>\n",
       "      <th>56882</th>\n",
       "      <td>-0.739785</td>\n",
       "      <td>-0.649629</td>\n",
       "      <td>-0.081982</td>\n",
       "      <td>-0.085468</td>\n",
       "      <td>-1.727369</td>\n",
       "      <td>-1.679580</td>\n",
       "      <td>-0.060771</td>\n",
       "      <td>-0.779574</td>\n",
       "      <td>2</td>\n",
       "    </tr>\n",
       "  </tbody>\n",
       "</table>\n",
       "<p>56883 rows × 9 columns</p>\n",
       "</div>"
      ],
      "text/plain": [
       "          alpha     delta         u         g         r         i         z  \\\n",
       "0     -0.074487  1.289303  0.026105  0.028179  0.278991  0.019125  0.000182   \n",
       "1     -0.698904  0.750608 -0.045018 -0.011422  0.289704  0.731347  0.051148   \n",
       "2     -1.794078 -0.327996  0.011324  0.026022  0.588107  1.068690  0.042780   \n",
       "3     -0.067306 -0.235023 -0.027930 -0.040495 -1.226457 -1.264591 -0.051649   \n",
       "4      0.376113 -1.094194 -0.046110 -0.061310 -1.633565 -1.662025 -0.067928   \n",
       "...         ...       ...       ...       ...       ...       ...       ...   \n",
       "56878  0.285100  0.747929  0.003668  0.016591  0.619789  0.824884  0.044223   \n",
       "56879 -1.680821 -1.196559  0.043405  0.010067 -0.219655 -0.664877 -0.033554   \n",
       "56880  0.249313  0.582905 -0.052432 -0.048213 -1.017237 -0.879015 -0.028594   \n",
       "56881 -1.753353  0.525410 -0.089405 -0.091785 -2.184998 -1.989771 -0.076964   \n",
       "56882 -0.739785 -0.649629 -0.081982 -0.085468 -1.727369 -1.679580 -0.060771   \n",
       "\n",
       "       redshift  class  \n",
       "0     -0.173181      0  \n",
       "1     -0.779582      0  \n",
       "2     -0.399170      0  \n",
       "3     -0.610805      0  \n",
       "4     -0.636052      0  \n",
       "...         ...    ...  \n",
       "56878 -0.779929      2  \n",
       "56879 -0.779631      2  \n",
       "56880 -0.780040      2  \n",
       "56881 -0.779651      2  \n",
       "56882 -0.779574      2  \n",
       "\n",
       "[56883 rows x 9 columns]"
      ]
     },
     "execution_count": 3,
     "metadata": {},
     "output_type": "execute_result"
    }
   ],
   "source": [
    "df_zc_r"
   ]
  },
  {
   "cell_type": "code",
   "execution_count": 4,
   "metadata": {},
   "outputs": [
    {
     "data": {
      "text/html": [
       "<div>\n",
       "<style scoped>\n",
       "    .dataframe tbody tr th:only-of-type {\n",
       "        vertical-align: middle;\n",
       "    }\n",
       "\n",
       "    .dataframe tbody tr th {\n",
       "        vertical-align: top;\n",
       "    }\n",
       "\n",
       "    .dataframe thead th {\n",
       "        text-align: right;\n",
       "    }\n",
       "</style>\n",
       "<table border=\"1\" class=\"dataframe\">\n",
       "  <thead>\n",
       "    <tr style=\"text-align: right;\">\n",
       "      <th></th>\n",
       "      <th>alpha</th>\n",
       "      <th>delta</th>\n",
       "      <th>u</th>\n",
       "      <th>g</th>\n",
       "      <th>r</th>\n",
       "      <th>i</th>\n",
       "      <th>z</th>\n",
       "      <th>redshift</th>\n",
       "    </tr>\n",
       "  </thead>\n",
       "  <tbody>\n",
       "    <tr>\n",
       "      <th>0</th>\n",
       "      <td>-0.074487</td>\n",
       "      <td>1.289303</td>\n",
       "      <td>0.026105</td>\n",
       "      <td>0.028179</td>\n",
       "      <td>0.278991</td>\n",
       "      <td>0.019125</td>\n",
       "      <td>0.000182</td>\n",
       "      <td>-0.173181</td>\n",
       "    </tr>\n",
       "    <tr>\n",
       "      <th>1</th>\n",
       "      <td>-0.698904</td>\n",
       "      <td>0.750608</td>\n",
       "      <td>-0.045018</td>\n",
       "      <td>-0.011422</td>\n",
       "      <td>0.289704</td>\n",
       "      <td>0.731347</td>\n",
       "      <td>0.051148</td>\n",
       "      <td>-0.779582</td>\n",
       "    </tr>\n",
       "    <tr>\n",
       "      <th>2</th>\n",
       "      <td>-1.794078</td>\n",
       "      <td>-0.327996</td>\n",
       "      <td>0.011324</td>\n",
       "      <td>0.026022</td>\n",
       "      <td>0.588107</td>\n",
       "      <td>1.068690</td>\n",
       "      <td>0.042780</td>\n",
       "      <td>-0.399170</td>\n",
       "    </tr>\n",
       "    <tr>\n",
       "      <th>3</th>\n",
       "      <td>-0.067306</td>\n",
       "      <td>-0.235023</td>\n",
       "      <td>-0.027930</td>\n",
       "      <td>-0.040495</td>\n",
       "      <td>-1.226457</td>\n",
       "      <td>-1.264591</td>\n",
       "      <td>-0.051649</td>\n",
       "      <td>-0.610805</td>\n",
       "    </tr>\n",
       "    <tr>\n",
       "      <th>4</th>\n",
       "      <td>0.376113</td>\n",
       "      <td>-1.094194</td>\n",
       "      <td>-0.046110</td>\n",
       "      <td>-0.061310</td>\n",
       "      <td>-1.633565</td>\n",
       "      <td>-1.662025</td>\n",
       "      <td>-0.067928</td>\n",
       "      <td>-0.636052</td>\n",
       "    </tr>\n",
       "  </tbody>\n",
       "</table>\n",
       "</div>"
      ],
      "text/plain": [
       "      alpha     delta         u         g         r         i         z  \\\n",
       "0 -0.074487  1.289303  0.026105  0.028179  0.278991  0.019125  0.000182   \n",
       "1 -0.698904  0.750608 -0.045018 -0.011422  0.289704  0.731347  0.051148   \n",
       "2 -1.794078 -0.327996  0.011324  0.026022  0.588107  1.068690  0.042780   \n",
       "3 -0.067306 -0.235023 -0.027930 -0.040495 -1.226457 -1.264591 -0.051649   \n",
       "4  0.376113 -1.094194 -0.046110 -0.061310 -1.633565 -1.662025 -0.067928   \n",
       "\n",
       "   redshift  \n",
       "0 -0.173181  \n",
       "1 -0.779582  \n",
       "2 -0.399170  \n",
       "3 -0.610805  \n",
       "4 -0.636052  "
      ]
     },
     "execution_count": 4,
     "metadata": {},
     "output_type": "execute_result"
    }
   ],
   "source": [
    "x = df_zc_r.drop(\"class\",axis='columns')\n",
    "x.head()"
   ]
  },
  {
   "cell_type": "code",
   "execution_count": 5,
   "metadata": {},
   "outputs": [
    {
     "data": {
      "text/plain": [
       "0        0\n",
       "1        0\n",
       "2        0\n",
       "3        0\n",
       "4        0\n",
       "        ..\n",
       "56878    2\n",
       "56879    2\n",
       "56880    2\n",
       "56881    2\n",
       "56882    2\n",
       "Name: class, Length: 56883, dtype: int64"
      ]
     },
     "execution_count": 5,
     "metadata": {},
     "output_type": "execute_result"
    }
   ],
   "source": [
    "y = df_zc_r[\"class\"]\n",
    "y"
   ]
  },
  {
   "cell_type": "code",
   "execution_count": 6,
   "metadata": {},
   "outputs": [],
   "source": [
    "from sklearn.model_selection import train_test_split\n",
    "x_train,x_test,y_train,y_test = train_test_split(x,y,test_size=0.1,random_state=42, stratify=y)"
   ]
  },
  {
   "cell_type": "code",
   "execution_count": 7,
   "metadata": {},
   "outputs": [
    {
     "data": {
      "text/plain": [
       "RandomForestClassifier(random_state=42)"
      ]
     },
     "execution_count": 7,
     "metadata": {},
     "output_type": "execute_result"
    }
   ],
   "source": [
    "from sklearn.ensemble import RandomForestClassifier\n",
    "\n",
    "# initializing model\n",
    "model_rf = RandomForestClassifier(n_estimators=100, random_state=42)\n",
    "model_rf.fit(x_train,y_train)"
   ]
  },
  {
   "cell_type": "code",
   "execution_count": 8,
   "metadata": {},
   "outputs": [],
   "source": [
    "y_pred = model_rf.predict(x_test)\n"
   ]
  },
  {
   "cell_type": "code",
   "execution_count": 9,
   "metadata": {},
   "outputs": [
    {
     "data": {
      "text/plain": [
       "array([[1837,   45,   14],\n",
       "       [  96, 1800,    0],\n",
       "       [   1,    0, 1896]], dtype=int64)"
      ]
     },
     "execution_count": 9,
     "metadata": {},
     "output_type": "execute_result"
    }
   ],
   "source": [
    "from sklearn.metrics import confusion_matrix\n",
    "\n",
    "# to obtain confusion matrix\n",
    "cm = confusion_matrix(y_test,y_pred)\n",
    "cm"
   ]
  },
  {
   "cell_type": "code",
   "execution_count": 10,
   "metadata": {},
   "outputs": [
    {
     "data": {
      "text/plain": [
       "Text(33.0, 0.5, 'y_predicted')"
      ]
     },
     "execution_count": 10,
     "metadata": {},
     "output_type": "execute_result"
    },
    {
     "data": {
      "image/png": "[encoded data removed]",
      "text/plain": [
       "<Figure size 432x288 with 2 Axes>"
      ]
     },
     "metadata": {
      "needs_background": "light"
     },
     "output_type": "display_data"
    }
   ],
   "source": [
    "#to plot the heatmap using the confusion matrix\n",
    "\n",
    "sns.heatmap(cm,annot=True)\n",
    "plt.xlabel(\"y_truth\")\n",
    "plt.ylabel(\"y_predicted\")"
   ]
  },
  {
   "cell_type": "code",
   "execution_count": 11,
   "metadata": {},
   "outputs": [
    {
     "name": "stdout",
     "output_type": "stream",
     "text": [
      "Accuracy: 0.9725786605730357\n",
      "Precision: 0.9727082647470384\n",
      "Recall: 0.9725739323396851\n",
      "F1 Score: 0.9725461206945981\n"
     ]
    }
   ],
   "source": [
    "# calculate evaluation metrics\n",
    "accuracy = accuracy_score(y_test, y_pred)\n",
    "precision = precision_score(y_test, y_pred, average='macro')\n",
    "recall = recall_score(y_test, y_pred, average='macro')\n",
    "f1 = f1_score(y_test, y_pred, average='macro')\n",
    "\n",
    "\n",
    "# print evaluation metrics\n",
    "print(\"Accuracy:\", accuracy)\n",
    "print(\"Precision:\", precision)\n",
    "print(\"Recall:\", recall)\n",
    "print(\"F1 Score:\", f1)"
   ]
  },
  {
   "attachments": {},
   "cell_type": "markdown",
   "metadata": {},
   "source": [
    "#### Support Vector Machine (SVM) algorithm"
   ]
  },
  {
   "cell_type": "code",
   "execution_count": 13,
   "metadata": {},
   "outputs": [
    {
     "data": {
      "text/plain": [
       "SVC(C=1, kernel='linear')"
      ]
     },
     "execution_count": 13,
     "metadata": {},
     "output_type": "execute_result"
    }
   ],
   "source": [
    "from sklearn.svm import SVC #importing SVC class\n",
    "\n",
    "# Split the data into training and test sets\n",
    "x_train, x_test, y_train, y_test = train_test_split(x, y, test_size=0.1, random_state=42,stratify=y)\n",
    "\n",
    "# training the SVM model\n",
    "model_svm = SVC(kernel='linear', C=1)\n",
    "model_svm.fit(x_train, y_train)\n"
   ]
  },
  {
   "cell_type": "code",
   "execution_count": 14,
   "metadata": {},
   "outputs": [],
   "source": [
    "y_pred = model_svm.predict(x_test)"
   ]
  },
  {
   "cell_type": "code",
   "execution_count": 15,
   "metadata": {},
   "outputs": [
    {
     "data": {
      "text/plain": [
       "array([[1790,   70,   36],\n",
       "       [ 147, 1748,    1],\n",
       "       [   0,    0, 1897]], dtype=int64)"
      ]
     },
     "execution_count": 15,
     "metadata": {},
     "output_type": "execute_result"
    }
   ],
   "source": [
    "# to obtain confusion matrix\n",
    "cm = confusion_matrix(y_test,y_pred)\n",
    "cm"
   ]
  },
  {
   "cell_type": "code",
   "execution_count": 16,
   "metadata": {},
   "outputs": [
    {
     "data": {
      "text/plain": [
       "Text(33.0, 0.5, 'y_predicted')"
      ]
     },
     "execution_count": 16,
     "metadata": {},
     "output_type": "execute_result"
    },
    {
     "data": {
      "image/png": "[encoded data removed]",
      "text/plain": [
       "<Figure size 432x288 with 2 Axes>"
      ]
     },
     "metadata": {
      "needs_background": "light"
     },
     "output_type": "display_data"
    }
   ],
   "source": [
    "#to plot the heatmap using the confusion matrix\n",
    "\n",
    "sns.heatmap(cm,annot=True)\n",
    "plt.xlabel(\"y_truth\")\n",
    "plt.ylabel(\"y_predicted\")"
   ]
  },
  {
   "cell_type": "code",
   "execution_count": 17,
   "metadata": {},
   "outputs": [
    {
     "name": "stdout",
     "output_type": "stream",
     "text": [
      "Accuracy: 0.9553524345227632\n",
      "Precision: 0.9554914210638638\n",
      "Recall: 0.9553445850914205\n",
      "F1 Score: 0.9552131282700648\n"
     ]
    }
   ],
   "source": [
    "# calculate evaluation metrics\n",
    "accuracy = accuracy_score(y_test, y_pred)\n",
    "precision = precision_score(y_test, y_pred, average='macro')\n",
    "recall = recall_score(y_test, y_pred, average='macro')\n",
    "f1 = f1_score(y_test, y_pred, average='macro')\n",
    "\n",
    "\n",
    "# print evaluation metrics\n",
    "print(\"Accuracy:\", accuracy)\n",
    "print(\"Precision:\", precision)\n",
    "print(\"Recall:\", recall)\n",
    "print(\"F1 Score:\", f1)"
   ]
  },
  {
   "attachments": {},
   "cell_type": "markdown",
   "metadata": {},
   "source": [
    "#### Extremely Randomized Trees (ERT) algorithm"
   ]
  },
  {
   "cell_type": "code",
   "execution_count": 19,
   "metadata": {},
   "outputs": [
    {
     "data": {
      "text/plain": [
       "ExtraTreesClassifier()"
      ]
     },
     "execution_count": 19,
     "metadata": {},
     "output_type": "execute_result"
    }
   ],
   "source": [
    "from sklearn.ensemble import ExtraTreesClassifier #importing extra trees classifier\n",
    "\n",
    "# Split the data into training and test sets\n",
    "x_train, x_test, y_train, y_test = train_test_split(x, y, test_size=0.1, random_state=42,stratify=y)\n",
    "\n",
    "# initializing the ERT model and fit it to the training data\n",
    "model_ert = ExtraTreesClassifier(n_estimators=100, max_depth=None, min_samples_split=2)\n",
    "model_ert.fit(x_train, y_train)"
   ]
  },
  {
   "cell_type": "code",
   "execution_count": 20,
   "metadata": {},
   "outputs": [],
   "source": [
    "y_pred = model_ert.predict(x_test)"
   ]
  },
  {
   "cell_type": "code",
   "execution_count": 21,
   "metadata": {},
   "outputs": [
    {
     "data": {
      "text/plain": [
       "array([[1840,   35,   21],\n",
       "       [ 108, 1787,    1],\n",
       "       [   0,    0, 1897]], dtype=int64)"
      ]
     },
     "execution_count": 21,
     "metadata": {},
     "output_type": "execute_result"
    }
   ],
   "source": [
    "# to obtain confusion matrix\n",
    "cm = confusion_matrix(y_test,y_pred)\n",
    "cm"
   ]
  },
  {
   "cell_type": "code",
   "execution_count": 22,
   "metadata": {},
   "outputs": [
    {
     "data": {
      "text/plain": [
       "Text(33.0, 0.5, 'y_predicted')"
      ]
     },
     "execution_count": 22,
     "metadata": {},
     "output_type": "execute_result"
    },
    {
     "data": {
      "image/png": "[encoded data removed]",
      "text/plain": [
       "<Figure size 432x288 with 2 Axes>"
      ]
     },
     "metadata": {
      "needs_background": "light"
     },
     "output_type": "display_data"
    }
   ],
   "source": [
    "#to plot the heatmap using the confusion matrix\n",
    "\n",
    "sns.heatmap(cm,annot=True)\n",
    "plt.xlabel(\"y_truth\")\n",
    "plt.ylabel(\"y_predicted\")"
   ]
  },
  {
   "cell_type": "code",
   "execution_count": 23,
   "metadata": {},
   "outputs": [
    {
     "name": "stdout",
     "output_type": "stream",
     "text": [
      "Accuracy: 0.97099666022148\n",
      "Precision: 0.9712948525069355\n",
      "Recall: 0.9709915611814347\n",
      "F1 Score: 0.970946802930072\n"
     ]
    }
   ],
   "source": [
    "# calculate evaluation metrics\n",
    "accuracy = accuracy_score(y_test, y_pred)\n",
    "precision = precision_score(y_test, y_pred, average='macro')\n",
    "recall = recall_score(y_test, y_pred, average='macro')\n",
    "f1 = f1_score(y_test, y_pred, average='macro')\n",
    "\n",
    "\n",
    "# print evaluation metrics\n",
    "print(\"Accuracy:\", accuracy)\n",
    "print(\"Precision:\", precision)\n",
    "print(\"Recall:\", recall)\n",
    "print(\"F1 Score:\", f1)"
   ]
  },
  {
   "attachments": {},
   "cell_type": "markdown",
   "metadata": {},
   "source": [
    "####  Decision Tree algorithm"
   ]
  },
  {
   "cell_type": "code",
   "execution_count": 25,
   "metadata": {},
   "outputs": [
    {
     "data": {
      "text/plain": [
       "DecisionTreeClassifier()"
      ]
     },
     "execution_count": 25,
     "metadata": {},
     "output_type": "execute_result"
    }
   ],
   "source": [
    "from sklearn.tree import DecisionTreeClassifier #importing decision tree module\n",
    "\n",
    "# Split the data into training and test sets\n",
    "x_train, x_test, y_train, y_test = train_test_split(x, y, test_size=0.1, random_state=42,stratify=y)\n",
    "\n",
    "# initializing the decision tree model and fit it to the training data\n",
    "model_dt = DecisionTreeClassifier()\n",
    "model_dt.fit(x_train, y_train)"
   ]
  },
  {
   "cell_type": "code",
   "execution_count": 26,
   "metadata": {},
   "outputs": [],
   "source": [
    "y_pred = model_dt.predict(x_test)"
   ]
  },
  {
   "cell_type": "code",
   "execution_count": 27,
   "metadata": {},
   "outputs": [
    {
     "data": {
      "text/plain": [
       "array([[1767,  127,    2],\n",
       "       [ 103, 1793,    0],\n",
       "       [   5,    0, 1892]], dtype=int64)"
      ]
     },
     "execution_count": 27,
     "metadata": {},
     "output_type": "execute_result"
    }
   ],
   "source": [
    "# to obtain confusion matrix\n",
    "cm = confusion_matrix(y_test,y_pred)\n",
    "cm"
   ]
  },
  {
   "cell_type": "code",
   "execution_count": 28,
   "metadata": {},
   "outputs": [
    {
     "data": {
      "text/plain": [
       "Text(33.0, 0.5, 'y_predicted')"
      ]
     },
     "execution_count": 28,
     "metadata": {},
     "output_type": "execute_result"
    },
    {
     "data": {
      "image/png": "[encoded data removed]",
      "text/plain": [
       "<Figure size 432x288 with 2 Axes>"
      ]
     },
     "metadata": {
      "needs_background": "light"
     },
     "output_type": "display_data"
    }
   ],
   "source": [
    "#to plot the heatmap using the confusion matrix\n",
    "\n",
    "sns.heatmap(cm,annot=True)\n",
    "plt.xlabel(\"y_truth\")\n",
    "plt.ylabel(\"y_predicted\")"
   ]
  },
  {
   "cell_type": "code",
   "execution_count": 29,
   "metadata": {},
   "outputs": [
    {
     "name": "stdout",
     "output_type": "stream",
     "text": [
      "Accuracy: 0.958340657409035\n",
      "Precision: 0.9583994001525284\n",
      "Recall: 0.9583337967195223\n",
      "F1 Score: 0.9583443112985925\n"
     ]
    }
   ],
   "source": [
    "# calculate evaluation metrics\n",
    "accuracy = accuracy_score(y_test, y_pred)\n",
    "precision = precision_score(y_test, y_pred, average='macro')\n",
    "recall = recall_score(y_test, y_pred, average='macro')\n",
    "f1 = f1_score(y_test, y_pred, average='macro')\n",
    "\n",
    "\n",
    "# print evaluation metrics\n",
    "print(\"Accuracy:\", accuracy)\n",
    "print(\"Precision:\", precision)\n",
    "print(\"Recall:\", recall)\n",
    "print(\"F1 Score:\", f1)"
   ]
  },
  {
   "attachments": {},
   "cell_type": "markdown",
   "metadata": {},
   "source": [
    "#### KNN algorithm"
   ]
  },
  {
   "cell_type": "code",
   "execution_count": 31,
   "metadata": {},
   "outputs": [
    {
     "data": {
      "text/plain": [
       "KNeighborsClassifier()"
      ]
     },
     "execution_count": 31,
     "metadata": {},
     "output_type": "execute_result"
    }
   ],
   "source": [
    "from sklearn.neighbors import KNeighborsClassifier # importing KNN module\n",
    "\n",
    "# Split the data into training and test sets\n",
    "x_train, x_test, y_train, y_test = train_test_split(x, y, test_size=0.1, random_state=42,stratify=y)\n",
    "\n",
    "# initializing the knn model and fit it to the training data\n",
    "model_knn = KNeighborsClassifier(n_neighbors=5)\n",
    "model_knn.fit(x_train, y_train)"
   ]
  },
  {
   "cell_type": "code",
   "execution_count": 32,
   "metadata": {},
   "outputs": [],
   "source": [
    "y_pred = model_knn.predict(x_test)"
   ]
  },
  {
   "cell_type": "code",
   "execution_count": 33,
   "metadata": {},
   "outputs": [
    {
     "data": {
      "text/plain": [
       "array([[1752,   40,  104],\n",
       "       [ 139, 1748,    9],\n",
       "       [  62,    0, 1835]], dtype=int64)"
      ]
     },
     "execution_count": 33,
     "metadata": {},
     "output_type": "execute_result"
    }
   ],
   "source": [
    "# to obtain confusion matrix\n",
    "cm = confusion_matrix(y_test,y_pred)\n",
    "cm"
   ]
  },
  {
   "cell_type": "code",
   "execution_count": 34,
   "metadata": {},
   "outputs": [
    {
     "data": {
      "text/plain": [
       "Text(33.0, 0.5, 'y_predicted')"
      ]
     },
     "execution_count": 34,
     "metadata": {},
     "output_type": "execute_result"
    },
    {
     "data": {
      "image/png": "[encoded data removed]",
      "text/plain": [
       "<Figure size 432x288 with 2 Axes>"
      ]
     },
     "metadata": {
      "needs_background": "light"
     },
     "output_type": "display_data"
    }
   ],
   "source": [
    "#to plot the heatmap using the confusion matrix\n",
    "\n",
    "sns.heatmap(cm,annot=True)\n",
    "plt.xlabel(\"y_truth\")\n",
    "plt.ylabel(\"y_predicted\")"
   ]
  },
  {
   "cell_type": "code",
   "execution_count": 35,
   "metadata": {},
   "outputs": [
    {
     "name": "stdout",
     "output_type": "stream",
     "text": [
      "Accuracy: 0.9377746528388118\n",
      "Precision: 0.9389006116682802\n",
      "Recall: 0.9377694590689125\n",
      "F1 Score: 0.9379403957689335\n"
     ]
    }
   ],
   "source": [
    "# calculate evaluation metrics\n",
    "accuracy = accuracy_score(y_test, y_pred)\n",
    "precision = precision_score(y_test, y_pred, average='macro')\n",
    "recall = recall_score(y_test, y_pred, average='macro')\n",
    "f1 = f1_score(y_test, y_pred, average='macro')\n",
    "\n",
    "\n",
    "# print evaluation metrics\n",
    "print(\"Accuracy:\", accuracy)\n",
    "print(\"Precision:\", precision)\n",
    "print(\"Recall:\", recall)\n",
    "print(\"F1 Score:\", f1)"
   ]
  }
 ],
 "metadata": {
  "kernelspec": {
   "display_name": "Python 3",
   "language": "python",
   "name": "python3"
  },
  "language_info": {
   "codemirror_mode": {
    "name": "ipython",
    "version": 3
   },
   "file_extension": ".py",
   "mimetype": "text/x-python",
   "name": "python",
   "nbconvert_exporter": "python",
   "pygments_lexer": "ipython3",
   "version": "3.10.0"
  },
  "orig_nbformat": 4,
  "vscode": {
   "interpreter": {
    "hash": "107d7b120a5b68773a87d4067e673630b35702e55ebab3138143d08b1c4d7cbc"
   }
  }
 },
 "nbformat": 4,
 "nbformat_minor": 2
}
