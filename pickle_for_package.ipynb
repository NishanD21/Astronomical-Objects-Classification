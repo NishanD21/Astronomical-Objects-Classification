{
 "cells": [
  {
   "attachments": {},
   "cell_type": "markdown",
   "metadata": {},
   "source": [
    "### Creating pickle file for Python Package"
   ]
  },
  {
   "cell_type": "code",
   "execution_count": 19,
   "metadata": {},
   "outputs": [],
   "source": [
    "import pandas as pd # for Dataframe manupulation\n",
    "import matplotlib.pyplot as plt #for data visualization\n",
    "import seaborn as sns #for data visualization\n",
    "import numpy as np # for arrays manipulation\n",
    "from sklearn.metrics import accuracy_score, precision_score, recall_score, f1_score, roc_curve, auc \n",
    "# to import evaluation metrices\n",
    "from setuptools import setup, find_packages\n",
    "import pickle"
   ]
  },
  {
   "cell_type": "code",
   "execution_count": 20,
   "metadata": {},
   "outputs": [],
   "source": [
    "df_zc_r = pd.read_csv('D:/Academic/MSc_Data_Science/Course/8.Technology Dissertation/4. Dissertation/Datasets/sgq_classification_zc_r.csv')"
   ]
  },
  {
   "cell_type": "code",
   "execution_count": 21,
   "metadata": {},
   "outputs": [
    {
     "data": {
      "text/html": [
       "<div>\n",
       "<style scoped>\n",
       "    .dataframe tbody tr th:only-of-type {\n",
       "        vertical-align: middle;\n",
       "    }\n",
       "\n",
       "    .dataframe tbody tr th {\n",
       "        vertical-align: top;\n",
       "    }\n",
       "\n",
       "    .dataframe thead th {\n",
       "        text-align: right;\n",
       "    }\n",
       "</style>\n",
       "<table border=\"1\" class=\"dataframe\">\n",
       "  <thead>\n",
       "    <tr style=\"text-align: right;\">\n",
       "      <th></th>\n",
       "      <th>alpha</th>\n",
       "      <th>delta</th>\n",
       "      <th>u</th>\n",
       "      <th>g</th>\n",
       "      <th>r</th>\n",
       "      <th>i</th>\n",
       "      <th>z</th>\n",
       "      <th>redshift</th>\n",
       "    </tr>\n",
       "  </thead>\n",
       "  <tbody>\n",
       "    <tr>\n",
       "      <th>0</th>\n",
       "      <td>-0.074487</td>\n",
       "      <td>1.289303</td>\n",
       "      <td>0.026105</td>\n",
       "      <td>0.028179</td>\n",
       "      <td>0.278991</td>\n",
       "      <td>0.019125</td>\n",
       "      <td>0.000182</td>\n",
       "      <td>-0.173181</td>\n",
       "    </tr>\n",
       "    <tr>\n",
       "      <th>1</th>\n",
       "      <td>-0.698904</td>\n",
       "      <td>0.750608</td>\n",
       "      <td>-0.045018</td>\n",
       "      <td>-0.011422</td>\n",
       "      <td>0.289704</td>\n",
       "      <td>0.731347</td>\n",
       "      <td>0.051148</td>\n",
       "      <td>-0.779582</td>\n",
       "    </tr>\n",
       "    <tr>\n",
       "      <th>2</th>\n",
       "      <td>-1.794078</td>\n",
       "      <td>-0.327996</td>\n",
       "      <td>0.011324</td>\n",
       "      <td>0.026022</td>\n",
       "      <td>0.588107</td>\n",
       "      <td>1.068690</td>\n",
       "      <td>0.042780</td>\n",
       "      <td>-0.399170</td>\n",
       "    </tr>\n",
       "    <tr>\n",
       "      <th>3</th>\n",
       "      <td>-0.067306</td>\n",
       "      <td>-0.235023</td>\n",
       "      <td>-0.027930</td>\n",
       "      <td>-0.040495</td>\n",
       "      <td>-1.226457</td>\n",
       "      <td>-1.264591</td>\n",
       "      <td>-0.051649</td>\n",
       "      <td>-0.610805</td>\n",
       "    </tr>\n",
       "    <tr>\n",
       "      <th>4</th>\n",
       "      <td>0.376113</td>\n",
       "      <td>-1.094194</td>\n",
       "      <td>-0.046110</td>\n",
       "      <td>-0.061310</td>\n",
       "      <td>-1.633565</td>\n",
       "      <td>-1.662025</td>\n",
       "      <td>-0.067928</td>\n",
       "      <td>-0.636052</td>\n",
       "    </tr>\n",
       "  </tbody>\n",
       "</table>\n",
       "</div>"
      ],
      "text/plain": [
       "      alpha     delta         u         g         r         i         z  \\\n",
       "0 -0.074487  1.289303  0.026105  0.028179  0.278991  0.019125  0.000182   \n",
       "1 -0.698904  0.750608 -0.045018 -0.011422  0.289704  0.731347  0.051148   \n",
       "2 -1.794078 -0.327996  0.011324  0.026022  0.588107  1.068690  0.042780   \n",
       "3 -0.067306 -0.235023 -0.027930 -0.040495 -1.226457 -1.264591 -0.051649   \n",
       "4  0.376113 -1.094194 -0.046110 -0.061310 -1.633565 -1.662025 -0.067928   \n",
       "\n",
       "   redshift  \n",
       "0 -0.173181  \n",
       "1 -0.779582  \n",
       "2 -0.399170  \n",
       "3 -0.610805  \n",
       "4 -0.636052  "
      ]
     },
     "execution_count": 21,
     "metadata": {},
     "output_type": "execute_result"
    }
   ],
   "source": [
    "x = df_zc_r.drop(\"class\",axis='columns')\n",
    "x.head()"
   ]
  },
  {
   "cell_type": "code",
   "execution_count": 22,
   "metadata": {},
   "outputs": [
    {
     "data": {
      "text/plain": [
       "0        0\n",
       "1        0\n",
       "2        0\n",
       "3        0\n",
       "4        0\n",
       "        ..\n",
       "56878    2\n",
       "56879    2\n",
       "56880    2\n",
       "56881    2\n",
       "56882    2\n",
       "Name: class, Length: 56883, dtype: int64"
      ]
     },
     "execution_count": 22,
     "metadata": {},
     "output_type": "execute_result"
    }
   ],
   "source": [
    "y = df_zc_r[\"class\"]\n",
    "y"
   ]
  },
  {
   "cell_type": "code",
   "execution_count": 23,
   "metadata": {},
   "outputs": [],
   "source": [
    "from sklearn.model_selection import train_test_split\n",
    "x_train,x_test,y_train,y_test = train_test_split(x,y,test_size=0.1,random_state=42, stratify=y)"
   ]
  },
  {
   "cell_type": "code",
   "execution_count": 24,
   "metadata": {},
   "outputs": [
    {
     "data": {
      "text/plain": [
       "RandomForestClassifier(random_state=42)"
      ]
     },
     "execution_count": 24,
     "metadata": {},
     "output_type": "execute_result"
    }
   ],
   "source": [
    "from sklearn.ensemble import RandomForestClassifier\n",
    "\n",
    "# initializing model\n",
    "model_rf = RandomForestClassifier(n_estimators=100, random_state=42)\n",
    "model_rf.fit(x_train,y_train)"
   ]
  },
  {
   "cell_type": "code",
   "execution_count": 25,
   "metadata": {},
   "outputs": [
    {
     "name": "stdout",
     "output_type": "stream",
     "text": [
      "Accuracy: 97.26%\n"
     ]
    }
   ],
   "source": [
    "# Make predictions on the testing data\n",
    "y_pred = model_rf.predict(x_test)\n",
    "\n",
    "# Calculate the accuracy of the model\n",
    "accuracy = accuracy_score(y_test, y_pred)\n",
    "print(\"Accuracy: {:.2f}%\".format(accuracy * 100))"
   ]
  },
  {
   "cell_type": "code",
   "execution_count": 26,
   "metadata": {},
   "outputs": [],
   "source": [
    "with open('model.pkl', 'wb') as f:\n",
    "    pickle.dump(model_rf, f)"
   ]
  }
 ],
 "metadata": {
  "kernelspec": {
   "display_name": "Python 3",
   "language": "python",
   "name": "python3"
  },
  "language_info": {
   "codemirror_mode": {
    "name": "ipython",
    "version": 3
   },
   "file_extension": ".py",
   "mimetype": "text/x-python",
   "name": "python",
   "nbconvert_exporter": "python",
   "pygments_lexer": "ipython3",
   "version": "3.10.0"
  },
  "orig_nbformat": 4,
  "vscode": {
   "interpreter": {
    "hash": "107d7b120a5b68773a87d4067e673630b35702e55ebab3138143d08b1c4d7cbc"
   }
  }
 },
 "nbformat": 4,
 "nbformat_minor": 2
}
